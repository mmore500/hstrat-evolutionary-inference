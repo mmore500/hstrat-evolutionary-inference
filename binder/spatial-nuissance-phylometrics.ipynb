{
 "cells": [
  {
   "cell_type": "code",
   "execution_count": null,
   "metadata": {},
   "outputs": [],
   "source": [
    "import itertools as it\n",
    "\n",
    "from matplotlib import pyplot as plt\n",
    "from nbmetalog import nbmetalog as nbm\n",
    "import numpy as np\n",
    "import pandas as pd\n",
    "import seaborn as sns\n",
    "from teeplot import teeplot as tp"
   ]
  },
  {
   "cell_type": "code",
   "execution_count": null,
   "metadata": {},
   "outputs": [],
   "source": [
    "# prints metadata about notebook runtime\n",
    "nbm.print_metadata()"
   ]
  },
  {
   "cell_type": "code",
   "execution_count": null,
   "metadata": {},
   "outputs": [],
   "source": [
    "df = pd.read_csv(\"https://osf.io/5trmg/download\")\n",
    "dfdigest = np.bitwise_xor.reduce(\n",
    "    pd.util.hash_pandas_object(df),\n",
    ")\n",
    "print(\"{:x}\".format(dfdigest))\n",
    "df"
   ]
  },
  {
   "cell_type": "code",
   "execution_count": null,
   "metadata": {},
   "outputs": [],
   "source": [
    "phylometrics = [\n",
    "    #     'diversity',\n",
    "    \"colless_like_index\",\n",
    "    #     'average_depth',\n",
    "    #     'average_origin_time',\n",
    "    #     'average_origin_time_normalized',\n",
    "    #     'max_depth',\n",
    "    \"mean_pairwise_distance\",\n",
    "    #     'mean_pairwise_distance_branch_only',\n",
    "    #     'num_active',\n",
    "    \"num_ancestors\",\n",
    "    #     'num_outside',\n",
    "    #     'num_roots',\n",
    "    #     'num_taxa',\n",
    "    #     'phylogenetic_diversity',\n",
    "    #     'sum_pairwise_distance',\n",
    "    #     'sum_pairwise_distance_branch_only',\n",
    "    #     'total_orgs',\n",
    "    #     'tree_size',\n",
    "    #     'variance_pairwise_distance',\n",
    "    #     'variance_pairwise_distance_branch_only',\n",
    "    #     'mrca_depth',\n",
    "    #     'sackin_index',\n",
    "    \"mean_evolutionary_distinctiveness\",\n",
    "    #     'sum_evolutionary_distinctiveness',\n",
    "    #     'variance_evolutionary_distinctiveness',\n",
    "]"
   ]
  },
  {
   "cell_type": "code",
   "execution_count": null,
   "metadata": {},
   "outputs": [],
   "source": [
    "methodological_variables = [\n",
    "    \"resolution\",\n",
    "]"
   ]
  },
  {
   "cell_type": "code",
   "execution_count": null,
   "metadata": {},
   "outputs": [],
   "source": [
    "evolutionary_variables = [\n",
    "    \"num_niches\",\n",
    "]"
   ]
  },
  {
   "cell_type": "code",
   "execution_count": null,
   "metadata": {},
   "outputs": [],
   "source": [
    "sensitivity_analysis_variables = [\n",
    "    \"epoch\",\n",
    "    \"mut_distn\",\n",
    "]"
   ]
  },
  {
   "cell_type": "code",
   "execution_count": null,
   "metadata": {},
   "outputs": [],
   "source": [
    "fixed_variables = [\n",
    "    \"num_generations\",  # homogeneous (num generations per epoch)\n",
    "    \"p_island_migration\",  # homogeneous\n",
    "    \"population_size\",  # homogeneous\n",
    "    \"subsampling-fraction\",  # only use 1.0\n",
    "    \"trie-postprocess\",  # just use naive postprocessing for now\n",
    "    \"tournament_size\",  # only use 2\n",
    "    \"num_islands\",  # only use 1024\n",
    "]"
   ]
  },
  {
   "cell_type": "code",
   "execution_count": null,
   "metadata": {},
   "outputs": [],
   "source": [
    "# ensure fixed variables\n",
    "df = df[\n",
    "    (df[\"p_island_migration\"] == 0.01)\n",
    "    & (df[\"tournament_size\"] == 2)\n",
    "    & (df[\"num_islands\"] == 1024)\n",
    "    & ((df[\"subsampling-fraction\"] == 1.0) | df[\"subsampling-fraction\"].isna())\n",
    "    & ((df[\"trie-postprocess\"] == \"naive\") | df[\"trie-postprocess\"].isna())\n",
    "].copy()\n",
    "\n",
    "for fixed_variable in fixed_variables:\n",
    "    assert len(df[fixed_variable].dropna().unique()) == 1, excluded_variable\n",
    "\n",
    "df"
   ]
  },
  {
   "cell_type": "code",
   "execution_count": null,
   "metadata": {},
   "outputs": [],
   "source": [
    "# exclude extraneous variable values\n",
    "df = df[(df[\"a\"] != \"consolidated-phylogeny\")].copy()\n",
    "\n",
    "df"
   ]
  },
  {
   "cell_type": "code",
   "execution_count": null,
   "metadata": {},
   "outputs": [],
   "source": [
    "df[\"num_niches\"].unique()"
   ]
  },
  {
   "cell_type": "code",
   "execution_count": null,
   "metadata": {},
   "outputs": [],
   "source": [
    "df[\"num_islands\"].unique()"
   ]
  },
  {
   "cell_type": "code",
   "execution_count": null,
   "metadata": {},
   "outputs": [],
   "source": [
    "df[\"tournament_size\"].unique()"
   ]
  },
  {
   "cell_type": "code",
   "execution_count": null,
   "metadata": {},
   "outputs": [],
   "source": [
    "df[\"a\"].unique()"
   ]
  },
  {
   "cell_type": "code",
   "execution_count": null,
   "metadata": {},
   "outputs": [],
   "source": [
    "df[\"regime\"] = df.apply(\n",
    "    lambda row: {\n",
    "        (1024, 1, 3.0517578125e-08): \"plain\",\n",
    "        (1024, 4, 3.0517578125e-08): \"4 niche ecology\",\n",
    "        (1024, 4, 3.0517578125e-06): \"weak 4 niche ecology\",\n",
    "        (1024, 8, 3.0517578125e-08): \"8 niche ecology\",\n",
    "    }.get(\n",
    "        tuple(row[[\"num_islands\", \"num_niches\", \"p_niche_invasion\"]]),\n",
    "        np.nan,  # default\n",
    "    ),\n",
    "    axis=\"columns\",\n",
    ")\n",
    "df[\"regime\"].unique()"
   ]
  },
  {
   "cell_type": "code",
   "execution_count": null,
   "metadata": {},
   "outputs": [],
   "source": [
    "df[df[\"a\"] == \"collapsed-phylogeny\"][\"regime\"].unique()"
   ]
  },
  {
   "cell_type": "markdown",
   "metadata": {},
   "source": [
    "# perfect phylogenetic data\n"
   ]
  },
  {
   "cell_type": "code",
   "execution_count": null,
   "metadata": {},
   "outputs": [],
   "source": [
    "melted_df = df[(df[\"a\"] == \"collapsed-phylogeny\")].melt(\n",
    "    id_vars=evolutionary_variables\n",
    "    + methodological_variables\n",
    "    + sensitivity_analysis_variables\n",
    "    + [\"regime\"],\n",
    "    value_vars=phylometrics,\n",
    ")\n",
    "melted_df[\"phylometric\"] = melted_df[\"variable\"]\n",
    "melted_df"
   ]
  },
  {
   "cell_type": "code",
   "execution_count": null,
   "metadata": {},
   "outputs": [],
   "source": [
    "def make_do_plot(plotter):\n",
    "    def do_plot(data, col, x, y):\n",
    "        g = sns.FacetGrid(\n",
    "            data,\n",
    "            col=col,\n",
    "            sharex=False,\n",
    "        )\n",
    "        g.map(\n",
    "            plotter,\n",
    "            x,\n",
    "            y,\n",
    "            order=[\n",
    "                \"plain\",\n",
    "                \"weak 4 niche ecology\",\n",
    "                \"4 niche ecology\",\n",
    "                \"8 niche ecology\",\n",
    "            ],\n",
    "            palette=sns.color_palette(\"Set3\", 4),\n",
    "        )\n",
    "\n",
    "    return do_plot\n",
    "\n",
    "\n",
    "for viz, (group, group_df) in it.product(\n",
    "    [\n",
    "        sns.barplot,\n",
    "        sns.boxplot,\n",
    "        sns.violinplot,\n",
    "    ],\n",
    "    melted_df.groupby(sensitivity_analysis_variables),\n",
    "):\n",
    "    do_plot = make_do_plot(viz)\n",
    "    do_plot.__name__ = viz.__name__\n",
    "    tp.tee(\n",
    "        do_plot,\n",
    "        data=group_df,\n",
    "        col=\"phylometric\",\n",
    "        x=\"value\",\n",
    "        y=\"regime\",\n",
    "        teeplot_outattrs={\n",
    "            **{\n",
    "                \"nuisance\": \"spatial-structure\",\n",
    "            },\n",
    "            **dict(\n",
    "                zip(sensitivity_analysis_variables, group),\n",
    "            ),\n",
    "        },\n",
    "    )"
   ]
  },
  {
   "cell_type": "markdown",
   "metadata": {},
   "source": [
    "# reconstructed phylogenetic data\n"
   ]
  },
  {
   "cell_type": "code",
   "execution_count": null,
   "metadata": {},
   "outputs": [],
   "source": [
    "df[\"quality\"] = df.apply(\n",
    "    lambda row: {\n",
    "        (\"reconstructed-tree\", 3.0): \"33% resolution\",\n",
    "        (\"reconstructed-tree\", 10.0): \"10% resolution\",\n",
    "        (\"reconstructed-tree\", 30.0): \"3% resolution\",\n",
    "        (\"reconstructed-tree\", 100.0): \"1% resolution\",\n",
    "        (\"collapsed-phylogeny\", 0): \"perfect resolution\",\n",
    "    }.get(\n",
    "        tuple(row[[\"a\", \"resolution\"]].fillna(0)),\n",
    "        np.nan,  # default\n",
    "    ),\n",
    "    axis=\"columns\",\n",
    ")\n",
    "df[\"quality\"].unique()"
   ]
  },
  {
   "cell_type": "code",
   "execution_count": null,
   "metadata": {},
   "outputs": [],
   "source": [
    "melted_df = df.melt(\n",
    "    id_vars=evolutionary_variables\n",
    "    + methodological_variables\n",
    "    + sensitivity_analysis_variables\n",
    "    + [\"regime\", \"a\", \"quality\"],\n",
    "    value_vars=phylometrics,\n",
    ")\n",
    "melted_df[\"phylometric\"] = melted_df[\"variable\"]\n",
    "melted_df"
   ]
  },
  {
   "cell_type": "code",
   "execution_count": null,
   "metadata": {},
   "outputs": [],
   "source": [
    "def make_do_plot(plotter):\n",
    "    def do_plot(data, col, row, x, y):\n",
    "        g = sns.FacetGrid(\n",
    "            data,\n",
    "            col=col,\n",
    "            row=row,\n",
    "            row_order=[\n",
    "                \"plain\",\n",
    "                \"weak 4 niche ecology\",\n",
    "                \"4 niche ecology\",\n",
    "                \"8 niche ecology\",\n",
    "            ],\n",
    "            sharex=\"col\",\n",
    "            margin_titles=True,\n",
    "        )\n",
    "        g.map(\n",
    "            plotter,\n",
    "            x,\n",
    "            y,\n",
    "            order=[\n",
    "                \"33% resolution\",\n",
    "                \"10% resolution\",\n",
    "                \"3% resolution\",\n",
    "                \"1% resolution\",\n",
    "                \"perfect resolution\",\n",
    "            ],\n",
    "            palette=sns.color_palette(\"Set1\", 5),\n",
    "        )\n",
    "\n",
    "    return do_plot\n",
    "\n",
    "\n",
    "for viz, (group, group_df) in it.product(\n",
    "    [\n",
    "        sns.barplot,\n",
    "        sns.boxplot,\n",
    "        sns.violinplot,\n",
    "    ],\n",
    "    melted_df.groupby(sensitivity_analysis_variables),\n",
    "):\n",
    "    do_plot = make_do_plot(viz)\n",
    "    do_plot.__name__ = viz.__name__\n",
    "    tp.tee(\n",
    "        do_plot,\n",
    "        data=group_df,\n",
    "        col=\"phylometric\",\n",
    "        row=\"regime\",\n",
    "        x=\"value\",\n",
    "        y=\"quality\",\n",
    "        teeplot_outattrs={\n",
    "            **{\n",
    "                \"nuisance\": \"spatial-structure\",\n",
    "            },\n",
    "            **dict(\n",
    "                zip(sensitivity_analysis_variables, group),\n",
    "            ),\n",
    "        },\n",
    "    )"
   ]
  },
  {
   "cell_type": "code",
   "execution_count": null,
   "metadata": {},
   "outputs": [],
   "source": []
  }
 ],
 "metadata": {
  "kernelspec": {
   "display_name": "Python 3",
   "language": "python",
   "name": "python3"
  },
  "language_info": {
   "codemirror_mode": {
    "name": "ipython",
    "version": 3
   },
   "file_extension": ".py",
   "mimetype": "text/x-python",
   "name": "python",
   "nbconvert_exporter": "python",
   "pygments_lexer": "ipython3",
   "version": "3.10.6"
  }
 },
 "nbformat": 4,
 "nbformat_minor": 5
}
