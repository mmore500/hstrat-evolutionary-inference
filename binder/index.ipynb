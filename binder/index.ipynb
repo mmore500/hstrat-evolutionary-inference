{
 "cells": [
  {
   "cell_type": "code",
   "execution_count": 1,
   "metadata": {
    "execution": {
     "iopub.execute_input": "2024-03-25T21:27:00.668416Z",
     "iopub.status.busy": "2024-03-25T21:27:00.668229Z",
     "iopub.status.idle": "2024-03-25T21:27:00.886369Z",
     "shell.execute_reply": "2024-03-25T21:27:00.885833Z"
    }
   },
   "outputs": [],
   "source": [
    "import pandas as pd\n"
   ]
  },
  {
   "cell_type": "markdown",
   "metadata": {},
   "source": [
    "TODO\n"
   ]
  },
  {
   "cell_type": "code",
   "execution_count": 2,
   "metadata": {
    "execution": {
     "iopub.execute_input": "2024-03-25T21:27:00.889379Z",
     "iopub.status.busy": "2024-03-25T21:27:00.888944Z",
     "iopub.status.idle": "2024-03-25T21:27:00.891468Z",
     "shell.execute_reply": "2024-03-25T21:27:00.890938Z"
    }
   },
   "outputs": [],
   "source": [
    "#TODO\n"
   ]
  }
 ],
 "metadata": {
  "kernelspec": {
   "display_name": "Python 3",
   "language": "python",
   "name": "python3"
  },
  "language_info": {
   "codemirror_mode": {
    "name": "ipython",
    "version": 3
   },
   "file_extension": ".py",
   "mimetype": "text/x-python",
   "name": "python",
   "nbconvert_exporter": "python",
   "pygments_lexer": "ipython3",
   "version": "3.10.12"
  }
 },
 "nbformat": 4,
 "nbformat_minor": 4
}
