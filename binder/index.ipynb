{
 "cells": [
  {
   "cell_type": "code",
   "execution_count": 1,
   "metadata": {
    "execution": {
     "iopub.execute_input": "2024-03-26T19:19:18.514109Z",
     "iopub.status.busy": "2024-03-26T19:19:18.513929Z",
     "iopub.status.idle": "2024-03-26T19:19:18.727047Z",
     "shell.execute_reply": "2024-03-26T19:19:18.726539Z"
    }
   },
   "outputs": [],
   "source": [
    "import pandas as pd\n"
   ]
  },
  {
   "cell_type": "markdown",
   "metadata": {},
   "source": [
    "TODO\n"
   ]
  },
  {
   "cell_type": "code",
   "execution_count": 2,
   "metadata": {
    "execution": {
     "iopub.execute_input": "2024-03-26T19:19:18.730141Z",
     "iopub.status.busy": "2024-03-26T19:19:18.729606Z",
     "iopub.status.idle": "2024-03-26T19:19:18.732434Z",
     "shell.execute_reply": "2024-03-26T19:19:18.731876Z"
    }
   },
   "outputs": [],
   "source": [
    "#TODO\n"
   ]
  }
 ],
 "metadata": {
  "kernelspec": {
   "display_name": "Python 3",
   "language": "python",
   "name": "python3"
  },
  "language_info": {
   "codemirror_mode": {
    "name": "ipython",
    "version": 3
   },
   "file_extension": ".py",
   "mimetype": "text/x-python",
   "name": "python",
   "nbconvert_exporter": "python",
   "pygments_lexer": "ipython3",
   "version": "3.10.12"
  }
 },
 "nbformat": 4,
 "nbformat_minor": 4
}
