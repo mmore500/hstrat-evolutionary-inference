{
 "cells": [
  {
   "cell_type": "code",
   "execution_count": 1,
   "metadata": {
    "execution": {
     "iopub.execute_input": "2024-03-23T21:18:29.620188Z",
     "iopub.status.busy": "2024-03-23T21:18:29.620013Z",
     "iopub.status.idle": "2024-03-23T21:18:29.827562Z",
     "shell.execute_reply": "2024-03-23T21:18:29.827054Z"
    }
   },
   "outputs": [],
   "source": [
    "import pandas as pd\n"
   ]
  },
  {
   "cell_type": "markdown",
   "metadata": {},
   "source": [
    "TODO\n"
   ]
  },
  {
   "cell_type": "code",
   "execution_count": 2,
   "metadata": {
    "execution": {
     "iopub.execute_input": "2024-03-23T21:18:29.830212Z",
     "iopub.status.busy": "2024-03-23T21:18:29.829981Z",
     "iopub.status.idle": "2024-03-23T21:18:29.832555Z",
     "shell.execute_reply": "2024-03-23T21:18:29.832080Z"
    }
   },
   "outputs": [],
   "source": [
    "#TODO\n"
   ]
  }
 ],
 "metadata": {
  "kernelspec": {
   "display_name": "Python 3",
   "language": "python",
   "name": "python3"
  },
  "language_info": {
   "codemirror_mode": {
    "name": "ipython",
    "version": 3
   },
   "file_extension": ".py",
   "mimetype": "text/x-python",
   "name": "python",
   "nbconvert_exporter": "python",
   "pygments_lexer": "ipython3",
   "version": "3.10.12"
  }
 },
 "nbformat": 4,
 "nbformat_minor": 4
}
