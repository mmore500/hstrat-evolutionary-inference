{
 "cells": [
  {
   "cell_type": "code",
   "execution_count": 1,
   "metadata": {
    "execution": {
     "iopub.execute_input": "2024-03-22T05:05:04.454982Z",
     "iopub.status.busy": "2024-03-22T05:05:04.454802Z",
     "iopub.status.idle": "2024-03-22T05:05:04.669767Z",
     "shell.execute_reply": "2024-03-22T05:05:04.669120Z"
    }
   },
   "outputs": [],
   "source": [
    "import pandas as pd\n"
   ]
  },
  {
   "cell_type": "markdown",
   "metadata": {},
   "source": [
    "TODO\n"
   ]
  },
  {
   "cell_type": "code",
   "execution_count": 2,
   "metadata": {
    "execution": {
     "iopub.execute_input": "2024-03-22T05:05:04.673075Z",
     "iopub.status.busy": "2024-03-22T05:05:04.672549Z",
     "iopub.status.idle": "2024-03-22T05:05:04.675419Z",
     "shell.execute_reply": "2024-03-22T05:05:04.674912Z"
    }
   },
   "outputs": [],
   "source": [
    "#TODO\n"
   ]
  }
 ],
 "metadata": {
  "kernelspec": {
   "display_name": "Python 3",
   "language": "python",
   "name": "python3"
  },
  "language_info": {
   "codemirror_mode": {
    "name": "ipython",
    "version": 3
   },
   "file_extension": ".py",
   "mimetype": "text/x-python",
   "name": "python",
   "nbconvert_exporter": "python",
   "pygments_lexer": "ipython3",
   "version": "3.10.12"
  }
 },
 "nbformat": 4,
 "nbformat_minor": 4
}
