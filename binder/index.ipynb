{
 "cells": [
  {
   "cell_type": "code",
   "execution_count": 1,
   "metadata": {
    "execution": {
     "iopub.execute_input": "2024-03-25T18:06:24.223662Z",
     "iopub.status.busy": "2024-03-25T18:06:24.223482Z",
     "iopub.status.idle": "2024-03-25T18:06:24.433189Z",
     "shell.execute_reply": "2024-03-25T18:06:24.432569Z"
    }
   },
   "outputs": [],
   "source": [
    "import pandas as pd\n"
   ]
  },
  {
   "cell_type": "markdown",
   "metadata": {},
   "source": [
    "TODO\n"
   ]
  },
  {
   "cell_type": "code",
   "execution_count": 2,
   "metadata": {
    "execution": {
     "iopub.execute_input": "2024-03-25T18:06:24.436383Z",
     "iopub.status.busy": "2024-03-25T18:06:24.435840Z",
     "iopub.status.idle": "2024-03-25T18:06:24.438817Z",
     "shell.execute_reply": "2024-03-25T18:06:24.438232Z"
    }
   },
   "outputs": [],
   "source": [
    "#TODO\n"
   ]
  }
 ],
 "metadata": {
  "kernelspec": {
   "display_name": "Python 3",
   "language": "python",
   "name": "python3"
  },
  "language_info": {
   "codemirror_mode": {
    "name": "ipython",
    "version": 3
   },
   "file_extension": ".py",
   "mimetype": "text/x-python",
   "name": "python",
   "nbconvert_exporter": "python",
   "pygments_lexer": "ipython3",
   "version": "3.10.12"
  }
 },
 "nbformat": 4,
 "nbformat_minor": 4
}
