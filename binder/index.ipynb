{
 "cells": [
  {
   "cell_type": "code",
   "execution_count": 1,
   "metadata": {
    "execution": {
     "iopub.execute_input": "2024-11-03T00:25:35.088137Z",
     "iopub.status.busy": "2024-11-03T00:25:35.087946Z",
     "iopub.status.idle": "2024-11-03T00:25:35.297974Z",
     "shell.execute_reply": "2024-11-03T00:25:35.297445Z"
    }
   },
   "outputs": [],
   "source": [
    "import pandas as pd\n"
   ]
  },
  {
   "cell_type": "markdown",
   "metadata": {},
   "source": [
    "TODO\n"
   ]
  },
  {
   "cell_type": "code",
   "execution_count": 2,
   "metadata": {
    "execution": {
     "iopub.execute_input": "2024-11-03T00:25:35.300737Z",
     "iopub.status.busy": "2024-11-03T00:25:35.300491Z",
     "iopub.status.idle": "2024-11-03T00:25:35.303194Z",
     "shell.execute_reply": "2024-11-03T00:25:35.302722Z"
    }
   },
   "outputs": [],
   "source": [
    "#TODO\n"
   ]
  }
 ],
 "metadata": {
  "kernelspec": {
   "display_name": "Python 3",
   "language": "python",
   "name": "python3"
  },
  "language_info": {
   "codemirror_mode": {
    "name": "ipython",
    "version": 3
   },
   "file_extension": ".py",
   "mimetype": "text/x-python",
   "name": "python",
   "nbconvert_exporter": "python",
   "pygments_lexer": "ipython3",
   "version": "3.10.12"
  }
 },
 "nbformat": 4,
 "nbformat_minor": 4
}
