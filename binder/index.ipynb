{
 "cells": [
  {
   "cell_type": "code",
   "execution_count": 1,
   "metadata": {
    "execution": {
     "iopub.execute_input": "2024-03-28T01:45:41.787571Z",
     "iopub.status.busy": "2024-03-28T01:45:41.787125Z",
     "iopub.status.idle": "2024-03-28T01:45:42.022573Z",
     "shell.execute_reply": "2024-03-28T01:45:42.022012Z"
    }
   },
   "outputs": [],
   "source": [
    "import pandas as pd\n"
   ]
  },
  {
   "cell_type": "markdown",
   "metadata": {},
   "source": [
    "TODO\n"
   ]
  },
  {
   "cell_type": "code",
   "execution_count": 2,
   "metadata": {
    "execution": {
     "iopub.execute_input": "2024-03-28T01:45:42.025479Z",
     "iopub.status.busy": "2024-03-28T01:45:42.025050Z",
     "iopub.status.idle": "2024-03-28T01:45:42.027845Z",
     "shell.execute_reply": "2024-03-28T01:45:42.027324Z"
    }
   },
   "outputs": [],
   "source": [
    "#TODO\n"
   ]
  }
 ],
 "metadata": {
  "kernelspec": {
   "display_name": "Python 3",
   "language": "python",
   "name": "python3"
  },
  "language_info": {
   "codemirror_mode": {
    "name": "ipython",
    "version": 3
   },
   "file_extension": ".py",
   "mimetype": "text/x-python",
   "name": "python",
   "nbconvert_exporter": "python",
   "pygments_lexer": "ipython3",
   "version": "3.10.12"
  }
 },
 "nbformat": 4,
 "nbformat_minor": 4
}
