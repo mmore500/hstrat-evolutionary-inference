{
 "cells": [
  {
   "cell_type": "code",
   "execution_count": null,
   "metadata": {},
   "outputs": [],
   "source": [
    "import itertools as it\n",
    "import os\n",
    "\n",
    "from cliffs_delta import cliffs_delta\n",
    "from iterpop import iterpop as ip\n",
    "import matplotlib as mpl\n",
    "from matplotlib import pyplot as plt\n",
    "from nbmetalog import nbmetalog as nbm\n",
    "import numpy as np\n",
    "import pandas as pd\n",
    "from scipy import stats as scipy_stats\n",
    "import seaborn as sns\n",
    "from teeplot import teeplot as tp\n",
    "\n",
    "from pylib import describe_effect\n"
   ]
  },
  {
   "cell_type": "code",
   "execution_count": null,
   "metadata": {},
   "outputs": [],
   "source": [
    "# prints metadata about notebook runtime\n",
    "nbm.print_metadata()\n"
   ]
  },
  {
   "cell_type": "code",
   "execution_count": null,
   "metadata": {},
   "outputs": [],
   "source": [
    "df = pd.read_csv(\"https://osf.io/djevp/download\")\n",
    "dfdigest = np.bitwise_xor.reduce(\n",
    "    pd.util.hash_pandas_object(df),\n",
    ")\n",
    "print(\"{:x}\".format(dfdigest))\n",
    "df\n"
   ]
  },
  {
   "cell_type": "code",
   "execution_count": null,
   "metadata": {},
   "outputs": [],
   "source": [
    "# phylometrics whittled down to descriptive, non-redundant set\n",
    "phylometrics = [\n",
    "    #     'diversity',\n",
    "    \"colless_like_index\",\n",
    "    #     'average_depth',\n",
    "    #     'average_origin_time',\n",
    "    #     'average_origin_time_normalized',\n",
    "    #     'max_depth',\n",
    "    \"mean_pairwise_distance\",\n",
    "    #     'mean_pairwise_distance_branch_only',\n",
    "    #     'num_active',\n",
    "    # \"num_ancestors\",\n",
    "    \"sum_distance\",\n",
    "    #     'num_outside',\n",
    "    #     'num_roots',\n",
    "    #     'num_taxa',\n",
    "    #     'phylogenetic_diversity',\n",
    "    #     'sum_pairwise_distance',\n",
    "    #     'sum_pairwise_distance_branch_only',\n",
    "    #     'total_orgs',\n",
    "    #     'tree_size',\n",
    "    #     'variance_pairwise_distance',\n",
    "    #     'variance_pairwise_distance_branch_only',\n",
    "    #     'mrca_depth',\n",
    "    #     'sackin_index',\n",
    "    \"mean_evolutionary_distinctiveness\",\n",
    "    #     'sum_evolutionary_distinctiveness',\n",
    "    #     'variance_evolutionary_distinctiveness',\n",
    "]\n"
   ]
  },
  {
   "cell_type": "code",
   "execution_count": null,
   "metadata": {},
   "outputs": [],
   "source": [
    "methodological_variables = [\n",
    "    \"resolution\",\n",
    "]\n"
   ]
  },
  {
   "cell_type": "code",
   "execution_count": null,
   "metadata": {},
   "outputs": [],
   "source": [
    "evolutionary_variables = [\n",
    "]\n"
   ]
  },
  {
   "cell_type": "code",
   "execution_count": null,
   "metadata": {},
   "outputs": [],
   "source": [
    "sensitivity_analysis_variables = [\n",
    "    \"epoch\",\n",
    "    \"mut_distn\",\n",
    "]\n"
   ]
  },
  {
   "cell_type": "code",
   "execution_count": null,
   "metadata": {},
   "outputs": [],
   "source": [
    "fixed_variables = [\n",
    "    \"subsampling-fraction\",  # only use 1.0\n",
    "    \"trie-postprocess\",  # just use naive postprocessing for now\n",
    "]\n"
   ]
  },
  {
   "cell_type": "code",
   "execution_count": null,
   "metadata": {},
   "outputs": [],
   "source": [
    "# ensure fixed variables\n",
    "df = df[\n",
    "    ((df[\"subsampling-fraction\"] == 1.0) | df[\"subsampling-fraction\"].isna())\n",
    "    & ((df[\"trie-postprocess\"] == \"naive\") | df[\"trie-postprocess\"].isna())\n",
    "].copy()\n",
    "\n",
    "for fixed_variable in fixed_variables:\n",
    "    assert len(df[fixed_variable].dropna().unique()) == 1\n",
    "\n",
    "df\n"
   ]
  },
  {
   "cell_type": "code",
   "execution_count": null,
   "metadata": {},
   "outputs": [],
   "source": [
    "# exclude extraneous variable values\n",
    "df = df[(df[\"a\"] != \"consolidated-phylogeny\")].copy()\n",
    "\n",
    "df\n"
   ]
  },
  {
   "cell_type": "code",
   "execution_count": null,
   "metadata": {},
   "outputs": [],
   "source": [
    "df[\"a\"].unique()\n"
   ]
  },
  {
   "cell_type": "code",
   "execution_count": null,
   "metadata": {},
   "outputs": [],
   "source": [
    "df[\"regime\"] = df[\"treatment\"].map(\n",
    "    {\n",
    "        \"individual_plain\": \"X plain\",\n",
    "        \"individual_selection_weak\": \"X weak selection\",\n",
    "        \"individual_selection_strong\": \"X strong selection\",\n",
    "        \"individual_spatial_plain\": \"plain\",\n",
    "        \"individual_ecology_some\": \"X ecology\",\n",
    "        \"individual_ecology_rich\": \"X rich ecology\",\n",
    "        \"individual_spatial_ecology_rich\": \"rich ecology\",\n",
    "        \"individual_spatial_ecology_some\": \"ecology\",\n",
    "        \"individual_ecology_weak\": \"X weak ecology\",\n",
    "        \"individual_spatial_ecology_weak\": \"weak ecology\",\n",
    "    },\n",
    ")\n",
    "df[\"regime\"].unique()\n"
   ]
  },
  {
   "cell_type": "code",
   "execution_count": null,
   "metadata": {},
   "outputs": [],
   "source": [
    "df[\"quality\"] = df.apply(\n",
    "    lambda row: {\n",
    "        (\"reconstructed-tree\", 3.0): \"33% resolution\",\n",
    "        (\"reconstructed-tree\", 10.0): \"10% resolution\",\n",
    "        (\"reconstructed-tree\", 33.0): \"3% resolution\",\n",
    "        (\"reconstructed-tree\", 100.0): \"1% resolution\",\n",
    "        (\"collapsed-phylogeny\", 0): \"perfect resolution\",\n",
    "    }.get(\n",
    "        tuple(row[[\"a\", \"resolution\"]].fillna(0)),\n",
    "        np.nan,  # default\n",
    "    ),\n",
    "    axis=\"columns\",\n",
    ")\n",
    "df = df.dropna(axis=\"index\", subset=[\"quality\"]).copy()\n",
    "df[\"quality\"].unique()\n"
   ]
  },
  {
   "cell_type": "code",
   "execution_count": null,
   "metadata": {},
   "outputs": [],
   "source": [
    "df[df[\"a\"] == \"collapsed-phylogeny\"][\"regime\"].unique()\n"
   ]
  },
  {
   "cell_type": "markdown",
   "metadata": {},
   "source": [
    "# perfect phylogenetic data\n"
   ]
  },
  {
   "cell_type": "code",
   "execution_count": null,
   "metadata": {},
   "outputs": [],
   "source": [
    "melted_df = df[(df[\"a\"] == \"collapsed-phylogeny\")].melt(\n",
    "    id_vars=evolutionary_variables\n",
    "    + methodological_variables\n",
    "    + sensitivity_analysis_variables\n",
    "    + [\"regime\"],\n",
    "    value_vars=phylometrics,\n",
    ")\n",
    "melted_df[\"phylometric\"] = melted_df[\"variable\"]\n",
    "melted_df\n"
   ]
  },
  {
   "cell_type": "markdown",
   "metadata": {},
   "source": [
    "# stats: kruskal wallace among regimes\n"
   ]
  },
  {
   "cell_type": "code",
   "execution_count": null,
   "metadata": {},
   "outputs": [],
   "source": [
    "records = []\n",
    "for phylometric in phylometrics:\n",
    "    for group, group_df in df[\n",
    "        (df[\"a\"] == \"collapsed-phylogeny\")\n",
    "        & df[\"regime\"].isin(\n",
    "        [\n",
    "            \"plain\",\n",
    "            \"weak ecology\",\n",
    "            \"ecology\",\n",
    "            \"rich ecology\",\n",
    "        ]\n",
    "        )\n",
    "    ].groupby(\n",
    "        sensitivity_analysis_variables,\n",
    "        as_index=False,\n",
    "    ):\n",
    "        kw_result, n = scipy_stats.kruskal(\n",
    "            *(\n",
    "                quality_series\n",
    "                for quality, quality_series in group_df.groupby([\"regime\"])[\n",
    "                    phylometric\n",
    "                ]\n",
    "            )\n",
    "        ), min(group_df.groupby([\"regime\"]).count()[\"a\"])\n",
    "        records.append(\n",
    "            {\n",
    "                **{\n",
    "                    \"n\": n,\n",
    "                    \"N\": len([*group_df.groupby([\"regime\"])]),\n",
    "                    \"phylometric\": phylometric,\n",
    "                },\n",
    "                **dict(zip([\"statistic\", \"p\"], kw_result)),\n",
    "                **dict(zip(sensitivity_analysis_variables, group)),\n",
    "            }\n",
    "        )\n",
    "\n",
    "with pd.option_context(\"display.max_colwidth\", None, \"display.max_rows\", None):\n",
    "    out_df = (\n",
    "        pd.DataFrame.from_records(records)\n",
    "        .sort_values(\n",
    "            sensitivity_analysis_variables,\n",
    "        )\n",
    "        .reset_index(drop=True)\n",
    "    )\n",
    "    display(out_df)\n",
    "    os.makedirs(\"outdata\", exist_ok=True)\n",
    "    out_df.to_csv(\n",
    "        \"outdata/a=phylostatistics-comparison-between-regimes-spatial-nuisance-kwallis+ext=.csv\",\n",
    "        index=False,\n",
    "    )\n"
   ]
  },
  {
   "cell_type": "code",
   "execution_count": null,
   "metadata": {},
   "outputs": [],
   "source": [
    "records = []\n",
    "for phylometric in phylometrics:\n",
    "    for group, group_df in df[\n",
    "        (df[\"a\"] == \"collapsed-phylogeny\")\n",
    "        & df[\"regime\"].isin(\n",
    "        [\n",
    "            \"plain\",\n",
    "            \"weak ecology\",\n",
    "            \"ecology\",\n",
    "            \"rich ecology\",\n",
    "        ],\n",
    "        )\n",
    "    ].groupby(\n",
    "        sensitivity_analysis_variables, as_index=False\n",
    "    ):\n",
    "        for regime1, regime2 in it.combinations(\n",
    "            group_df[\"regime\"].unique(), 2\n",
    "        ):\n",
    "            kw_result, n = scipy_stats.wilcoxon(\n",
    "                *zip(\n",
    "                    *zip(\n",
    "                        group_df[group_df[\"regime\"] == regime1][phylometric],\n",
    "                        group_df[group_df[\"regime\"] == regime2][phylometric],\n",
    "                    )\n",
    "                ),\n",
    "            ), min(group_df.groupby([\"regime\"]).count()[\"a\"])\n",
    "            records.append(\n",
    "                {\n",
    "                    **{\n",
    "                        \"regime1\": regime1,\n",
    "                        \"regime2\": regime2,\n",
    "                        \"n\": n,\n",
    "                        \"phylometric\": phylometric,\n",
    "                    },\n",
    "                    **dict(zip([\"statistic\", \"p\"], kw_result)),\n",
    "                    **dict(zip(sensitivity_analysis_variables, group)),\n",
    "                }\n",
    "            )\n",
    "\n",
    "with pd.option_context(\"display.max_colwidth\", None, \"display.max_rows\", None):\n",
    "    out_df = (\n",
    "        pd.DataFrame.from_records(records)\n",
    "        .sort_values(\n",
    "            [*sensitivity_analysis_variables, \"regime1\", \"regime2\"],\n",
    "        )\n",
    "        .reset_index(drop=True)\n",
    "    )\n",
    "    display(out_df)\n",
    "    os.makedirs(\"outdata\", exist_ok=True)\n",
    "    out_df.to_csv(\n",
    "        \"outdata/a=phylostatistics-comparison-between-regimes-allpairs-spatial-nuisance-wilcox+ext=.csv\",\n",
    "        index=False,\n",
    "    )\n"
   ]
  }
 ],
 "metadata": {
  "kernelspec": {
   "display_name": "Python 3",
   "language": "python",
   "name": "python3"
  },
  "language_info": {
   "codemirror_mode": {
    "name": "ipython",
    "version": 3
   },
   "file_extension": ".py",
   "mimetype": "text/x-python",
   "name": "python",
   "nbconvert_exporter": "python",
   "pygments_lexer": "ipython3"
  }
 },
 "nbformat": 4,
 "nbformat_minor": 5
}
