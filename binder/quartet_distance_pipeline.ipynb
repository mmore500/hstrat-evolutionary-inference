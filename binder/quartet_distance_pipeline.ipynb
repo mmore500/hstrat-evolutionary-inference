{
 "cells": [
  {
   "cell_type": "code",
   "execution_count": null,
   "metadata": {},
   "outputs": [],
   "source": [
    "import dendropy as dp\n",
    "import tqdist as tqdist\n",
    "import pandas as pd\n",
    "import alifedata_phyloinformatics_convert as apc\n"
   ]
  },
  {
   "cell_type": "code",
   "execution_count": null,
   "metadata": {},
   "outputs": [],
   "source": [
    "# load collapsed and reconstructed\n",
    "collapsed_df = pd.read_csv(\"assets/collapsed.csv\")\n",
    "reconstructed_df = pd.read_csv(\"assets/reconstructed.csv\")\n"
   ]
  },
  {
   "cell_type": "code",
   "execution_count": null,
   "metadata": {},
   "outputs": [],
   "source": [
    "# use apc to convert collapsed to dendropy, keeping loc parameter\n",
    "collapsed_tree = apc.alife_dataframe_to_dendropy_tree(collapsed_df, setattrs={\"loc\": \"loc\"})\n"
   ]
  },
  {
   "cell_type": "code",
   "execution_count": null,
   "metadata": {},
   "outputs": [],
   "source": [
    "# create taxon_label for collapsed (internal node -> f\"internal{id}, leaf -> loc)\n",
    "for node in collapsed_tree.leaf_node_iter():\n",
    "    node.taxon = dp.Taxon(label=str(node.loc))\n",
    "# for node in collapsed_tree.preorder_node_iter():\n",
    "#     if not node.taxon:\n",
    "#         node.taxon = dp.Taxon(f\"Inner+r{node.loc}\")\n"
   ]
  },
  {
   "cell_type": "code",
   "execution_count": null,
   "metadata": {},
   "outputs": [],
   "source": [
    "# use apc to convert reconstructed to dendropy, keeping taxon_label\n",
    "reconstructed_tree = apc.alife_dataframe_to_dendropy_tree(reconstructed_df)\n"
   ]
  },
  {
   "cell_type": "code",
   "execution_count": null,
   "metadata": {},
   "outputs": [],
   "source": [
    "for node in reconstructed_tree.preorder_node_iter():\n",
    "    if 'Inner' in node.taxon.label:\n",
    "        node.taxon.label = None\n"
   ]
  },
  {
   "cell_type": "code",
   "execution_count": null,
   "metadata": {},
   "outputs": [],
   "source": [
    "collapsed_newick = collapsed_tree.as_string(schema='newick').strip()\n",
    "reconstructed_newick = reconstructed_tree.as_string(schema='newick').strip()\n"
   ]
  },
  {
   "cell_type": "code",
   "execution_count": null,
   "metadata": {},
   "outputs": [],
   "source": [
    "tqdist.quartet_distance(collapsed_newick, reconstructed_newick)\n"
   ]
  },
  {
   "cell_type": "code",
   "execution_count": null,
   "metadata": {},
   "outputs": [],
   "source": [
    "# load & reformat sparsely-reconstructed tree\n",
    "sparse_df = pd.read_csv(\"assets/sparsereconstructed.csv\")\n",
    "sparse_tree = apc.alife_dataframe_to_dendropy_tree(sparse_df)\n",
    "for node in sparse_tree.preorder_node_iter():\n",
    "    if 'Inner' in node.taxon.label:\n",
    "        node.taxon.label = None\n",
    "sparse_newick = sparse_tree.as_string(schema='newick').strip()\n"
   ]
  },
  {
   "cell_type": "code",
   "execution_count": null,
   "metadata": {},
   "outputs": [],
   "source": [
    "tqdist.quartet_distance(collapsed_newick, sparse_newick)\n"
   ]
  },
  {
   "cell_type": "code",
   "execution_count": null,
   "metadata": {},
   "outputs": [],
   "source": [
    "tqdist.quartet_distance(collapsed_newick, collapsed_newick)\n"
   ]
  }
 ],
 "metadata": {
  "kernelspec": {
   "display_name": "Python 3 (ipykernel)",
   "language": "python",
   "name": "python3"
  },
  "language_info": {
   "codemirror_mode": {
    "name": "ipython",
    "version": 3
   },
   "file_extension": ".py",
   "mimetype": "text/x-python",
   "name": "python",
   "nbconvert_exporter": "python",
   "pygments_lexer": "ipython3"
  }
 },
 "nbformat": 4,
 "nbformat_minor": 5
}
