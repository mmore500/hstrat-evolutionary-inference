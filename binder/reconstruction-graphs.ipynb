{
 "cells": [
  {
   "cell_type": "code",
   "execution_count": null,
   "metadata": {},
   "outputs": [],
   "source": [
    "from keyname import keyname as kn\n",
    "import matplotlib.pyplot as plt\n",
    "import pandas as pd\n",
    "import ptitprince as pt\n",
    "import seaborn as sns\n",
    "from teeplot import teeplot\n"
   ]
  },
  {
   "cell_type": "code",
   "execution_count": null,
   "metadata": {},
   "outputs": [],
   "source": [
    "df = pd.read_csv(\"https://osf.io/ck47r/download\")\n"
   ]
  },
  {
   "cell_type": "code",
   "execution_count": null,
   "metadata": {},
   "outputs": [],
   "source": [
    "methodological_variables = [\n",
    "#  'resolution',\n",
    " 'subsampling-fraction',\n",
    " 'trie-postprocess',  # pick one based on bias/accuracy\n",
    "]\n",
    "\n",
    "evolutionary_variables = [\n",
    " 'mut_distn',  # sensitivity analysis\n",
    " 'num_generations',  # sensitivity analysis\n",
    " 'num_islands',\n",
    " 'num_niches',\n",
    " 'p_island_migration',  # sensitivity analysis\n",
    " 'p_niche_invasion',  # sensitivity analysis\n",
    " 'population_size',  # doesn't change\n",
    " 'tournament_size',\n",
    "]\n"
   ]
  },
  {
   "cell_type": "code",
   "execution_count": null,
   "metadata": {},
   "outputs": [],
   "source": [
    "df = df[\n",
    "    (df['subsampling-fraction'] == 1.0) &\n",
    "    (df['trie-postprocess'] == 'naive')\n",
    "]\n"
   ]
  },
  {
   "cell_type": "code",
   "execution_count": null,
   "metadata": {},
   "outputs": [],
   "source": [
    "for group, group_df in df.groupby(methodological_variables + evolutionary_variables):\n",
    "    teeplot.tee(\n",
    "        sns.barplot,\n",
    "        data=group_df,\n",
    "        x='resolution',\n",
    "        y='quartet_distance',\n",
    "        teeplot_outattrs={\n",
    "            a: b for a, b in zip(methodological_variables + evolutionary_variables, group)\n",
    "        }\n",
    "    )\n",
    "    plt.show()\n"
   ]
  },
  {
   "cell_type": "code",
   "execution_count": null,
   "metadata": {},
   "outputs": [],
   "source": [
    "for group, group_df in df.groupby(methodological_variables + evolutionary_variables):\n",
    "    teeplot.tee(\n",
    "        pt.RainCloud,\n",
    "        data=group_df,\n",
    "        x='resolution',\n",
    "        y='quartet_distance',\n",
    "        teeplot_outattrs={\n",
    "            a: b for a, b in zip(methodological_variables + evolutionary_variables, group)\n",
    "        }\n",
    "    )\n",
    "    plt.show()\n"
   ]
  }
 ],
 "metadata": {
  "kernelspec": {
   "display_name": "Python 3 (ipykernel)",
   "language": "python",
   "name": "python3"
  },
  "language_info": {
   "codemirror_mode": {
    "name": "ipython",
    "version": 3
   },
   "file_extension": ".py",
   "mimetype": "text/x-python",
   "name": "python",
   "nbconvert_exporter": "python",
   "pygments_lexer": "ipython3"
  }
 },
 "nbformat": 4,
 "nbformat_minor": 5
}
