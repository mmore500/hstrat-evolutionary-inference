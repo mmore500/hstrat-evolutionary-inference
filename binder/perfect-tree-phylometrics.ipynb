{
 "cells": [
  {
   "cell_type": "code",
   "execution_count": null,
   "metadata": {},
   "outputs": [],
   "source": [
    "import itertools as it\n",
    "import os\n",
    "\n",
    "from cliffs_delta import cliffs_delta\n",
    "from iterpop import iterpop as ip\n",
    "from matplotlib import pyplot as plt\n",
    "from nbmetalog import nbmetalog as nbm\n",
    "import numpy as np\n",
    "import pandas as pd\n",
    "from scipy import stats as scipy_stats\n",
    "import seaborn as sns\n",
    "from teeplot import teeplot as tp\n",
    "\n",
    "from pylib import describe_effect\n"
   ]
  },
  {
   "cell_type": "code",
   "execution_count": null,
   "metadata": {},
   "outputs": [],
   "source": [
    "# prints metadata about notebook runtime\n",
    "nbm.print_metadata()\n"
   ]
  },
  {
   "cell_type": "code",
   "execution_count": null,
   "metadata": {},
   "outputs": [],
   "source": [
    "df = pd.read_csv(\"https://osf.io/2xuyg/download\")\n",
    "dfdigest = np.bitwise_xor.reduce(\n",
    "    pd.util.hash_pandas_object(df),\n",
    ")\n",
    "print(\"{:x}\".format(dfdigest))\n",
    "df\n"
   ]
  },
  {
   "cell_type": "code",
   "execution_count": null,
   "metadata": {},
   "outputs": [],
   "source": [
    "# phylometrics whittled down to descriptive, non-redundant set\n",
    "df[\"colless-like index\"] = df[\"colless_like_index\"]\n",
    "df[\"mean pairwise distance\"] = df[\"mean_pairwise_distance\"]\n",
    "df[\"sum distance\"] = df[\"sum_distance\"]\n",
    "df[\"mean evolutionary distinctiveness\"] = df[\n",
    "    \"mean_evolutionary_distinctiveness\"\n",
    "]\n",
    "\n",
    "phylometrics = [\n",
    "    #     'diversity',\n",
    "    \"colless-like index\",\n",
    "    #     'average_depth',\n",
    "    #     'average_origin_time',\n",
    "    #     'average_origin_time_normalized',\n",
    "    #     'max_depth',\n",
    "    \"mean pairwise distance\",\n",
    "    #     'mean_pairwise_distance_branch_only',\n",
    "    #     'num_active',\n",
    "    \"sum distance\",\n",
    "    # \"num_ancestors\",\n",
    "    #     'num_outside',\n",
    "    #     'num_roots',\n",
    "    #     'num_taxa',\n",
    "    #     'phylogenetic_diversity',\n",
    "    #     'sum_pairwise_distance',\n",
    "    #     'sum_pairwise_distance_branch_only',\n",
    "    #     'total_orgs',\n",
    "    #     'tree_size',\n",
    "    #     'variance_pairwise_distance',\n",
    "    #     'variance_pairwise_distance_branch_only',\n",
    "    #     'mrca_depth',\n",
    "    #     'sackin_index',\n",
    "    \"mean evolutionary distinctiveness\",\n",
    "    #     'sum_evolutionary_distinctiveness',\n",
    "    #     'variance_evolutionary_distinctiveness',\n",
    "]\n"
   ]
  },
  {
   "cell_type": "code",
   "execution_count": null,
   "metadata": {},
   "outputs": [],
   "source": [
    "methodological_variables = [\n",
    "    \"resolution\",\n",
    "]\n"
   ]
  },
  {
   "cell_type": "code",
   "execution_count": null,
   "metadata": {},
   "outputs": [],
   "source": [
    "evolutionary_variables = [\n",
    "    \"num_islands\",\n",
    "    \"num_niches\",\n",
    "    \"tournament_size\",\n",
    "    \"p_niche_invasion\",\n",
    "]\n"
   ]
  },
  {
   "cell_type": "code",
   "execution_count": null,
   "metadata": {},
   "outputs": [],
   "source": [
    "sensitivity_analysis_variables = [\n",
    "    \"epoch\",\n",
    "    \"mut_distn\",\n",
    "]\n"
   ]
  },
  {
   "cell_type": "code",
   "execution_count": null,
   "metadata": {},
   "outputs": [],
   "source": [
    "fixed_variables = [\n",
    "    \"num_generations\",  # homogeneous (num generations per epoch)\n",
    "    \"p_island_migration\",  # homogeneous\n",
    "    \"population_size\",  # homogeneous\n",
    "    \"subsampling-fraction\",  # only use 1.0\n",
    "    \"trie-postprocess\",  # just use naive postprocessing for now\n",
    "]\n"
   ]
  },
  {
   "cell_type": "code",
   "execution_count": null,
   "metadata": {},
   "outputs": [],
   "source": [
    "# ensure fixed variables\n",
    "df = df[\n",
    "    (df[\"p_island_migration\"] == 0.01)\n",
    "    & ((df[\"subsampling-fraction\"] == 1.0) | df[\"subsampling-fraction\"].isna())\n",
    "    & ((df[\"trie-postprocess\"] == \"naive\") | df[\"trie-postprocess\"].isna())\n",
    "].copy()\n",
    "\n",
    "for fixed_variable in fixed_variables:\n",
    "    assert len(df[fixed_variable].dropna().unique()) == 1\n",
    "\n",
    "df\n"
   ]
  },
  {
   "cell_type": "code",
   "execution_count": null,
   "metadata": {},
   "outputs": [],
   "source": [
    "# exclude extraneous variable values\n",
    "df = df[(df[\"a\"] == \"collapsed-phylogeny\")].copy()\n",
    "\n",
    "df\n"
   ]
  },
  {
   "cell_type": "code",
   "execution_count": null,
   "metadata": {},
   "outputs": [],
   "source": [
    "df[\"num_niches\"].unique()\n"
   ]
  },
  {
   "cell_type": "code",
   "execution_count": null,
   "metadata": {},
   "outputs": [],
   "source": [
    "df[\"num_islands\"].unique()\n"
   ]
  },
  {
   "cell_type": "code",
   "execution_count": null,
   "metadata": {},
   "outputs": [],
   "source": [
    "df[\"tournament_size\"].unique()\n"
   ]
  },
  {
   "cell_type": "code",
   "execution_count": null,
   "metadata": {},
   "outputs": [],
   "source": [
    "df[\"a\"].unique()\n"
   ]
  },
  {
   "cell_type": "code",
   "execution_count": null,
   "metadata": {},
   "outputs": [],
   "source": [
    "df[\"regime\"] = df.apply(\n",
    "    lambda row: {\n",
    "        (1, 1, 2, 3.0517578125e-08): \"plain\",\n",
    "        (1, 1, 1, 3.0517578125e-08): \"weak selection\",\n",
    "        (1, 1, 4, 3.0517578125e-08): \"strong selection\",\n",
    "        (1, 1, 8, 3.0517578125e-08): \"weak selection\",\n",
    "        (1024, 1, 2, 3.0517578125e-08): \"spatial structure\",\n",
    "        (1, 4, 2, 3.0517578125e-06): \"weak ecology\",\n",
    "        (1, 4, 2, 3.0517578125e-08): \"ecology\",\n",
    "        (1, 8, 2, 3.0517578125e-08): \"rich ecology\",\n",
    "    }.get(\n",
    "        tuple(\n",
    "            row[\n",
    "                [\n",
    "                    \"num_islands\",\n",
    "                    \"num_niches\",\n",
    "                    \"tournament_size\",\n",
    "                    \"p_niche_invasion\",\n",
    "                ]\n",
    "            ]\n",
    "        ),\n",
    "        np.nan,  # default\n",
    "    ),\n",
    "    axis=\"columns\",\n",
    ")\n",
    "df = df.dropna(axis=\"index\", subset=[\"regime\"]).copy()\n",
    "df[\"regime\"].unique()\n"
   ]
  },
  {
   "cell_type": "code",
   "execution_count": null,
   "metadata": {},
   "outputs": [],
   "source": [
    "df[df[\"a\"] == \"collapsed-phylogeny\"][\"regime\"].unique()\n"
   ]
  },
  {
   "cell_type": "markdown",
   "metadata": {},
   "source": [
    "# Phylometrics by Regime, Perfect Data\n"
   ]
  },
  {
   "cell_type": "code",
   "execution_count": null,
   "metadata": {},
   "outputs": [],
   "source": [
    "melted_df = df[(df[\"a\"] == \"collapsed-phylogeny\")].melt(\n",
    "    id_vars=(\n",
    "        evolutionary_variables\n",
    "        + methodological_variables\n",
    "        + sensitivity_analysis_variables\n",
    "        + [\"regime\"]\n",
    "    ),\n",
    "    value_vars=phylometrics,\n",
    ")\n",
    "melted_df[\"phylometric\"] = melted_df[\"variable\"]\n",
    "melted_df\n"
   ]
  },
  {
   "cell_type": "code",
   "execution_count": null,
   "metadata": {},
   "outputs": [],
   "source": [
    "def make_do_plot(plotter):\n",
    "    def do_plot(data, col, x, y):\n",
    "        g = sns.FacetGrid(\n",
    "            data,\n",
    "            col=col,\n",
    "            sharex=False,\n",
    "        ).set_titles(template=\"{col_name}\")\n",
    "        g.map(\n",
    "            plotter,\n",
    "            x,\n",
    "            y,\n",
    "            order=[\n",
    "                \"plain\",\n",
    "                \"weak selection\",\n",
    "                \"strong selection\",\n",
    "                \"spatial structure\",\n",
    "                \"weak ecology\",\n",
    "                \"ecology\",\n",
    "                \"rich ecology\",\n",
    "            ],\n",
    "            palette=sns.color_palette(\"Set2\", 7),\n",
    "        )\n",
    "\n",
    "    return do_plot\n",
    "\n",
    "\n",
    "for viz, (group, group_df) in it.product(\n",
    "    [\n",
    "        sns.barplot,\n",
    "        sns.boxplot,\n",
    "        sns.violinplot,\n",
    "    ],\n",
    "    melted_df.groupby(sensitivity_analysis_variables),\n",
    "):\n",
    "    do_plot = make_do_plot(viz)\n",
    "    do_plot.__name__ = viz.__name__\n",
    "    tp.tee(\n",
    "        do_plot,\n",
    "        data=group_df,\n",
    "        col=\"phylometric\",\n",
    "        x=\"value\",\n",
    "        y=\"regime\",\n",
    "        teeplot_outattrs=dict(\n",
    "            zip(sensitivity_analysis_variables, group),\n",
    "        ),\n",
    "    )\n"
   ]
  },
  {
   "cell_type": "markdown",
   "metadata": {},
   "source": [
    "# regime heatmap signatures\n"
   ]
  },
  {
   "cell_type": "code",
   "execution_count": null,
   "metadata": {},
   "outputs": [],
   "source": [
    "for (group, group_df) in df.groupby(sensitivity_analysis_variables):\n",
    "\n",
    "    fil = (\n",
    "        group_df[(group_df[\"a\"] == \"collapsed-phylogeny\")]\n",
    "        .copy()\n",
    "        .dropna(subset=[\"regime\"])\n",
    "    )\n",
    "\n",
    "    melted_df = fil.melt(\n",
    "        id_vars=[\"regime\"],\n",
    "        value_vars=phylometrics,\n",
    "    )\n",
    "    melted_df[\"phylometric\"] = melted_df[\"variable\"]\n",
    "\n",
    "    def calc_cliffs_delta(group) -> float:\n",
    "        phylometric, regime = group.name\n",
    "        return -cliffs_delta(\n",
    "            fil[fil[\"regime\"] == \"plain\"][phylometric],\n",
    "            fil[fil[\"regime\"] == regime][phylometric],\n",
    "        )[0]\n",
    "\n",
    "    melted_df = melted_df.groupby([\"phylometric\", \"regime\"]).apply(\n",
    "        calc_cliffs_delta,\n",
    "    ).reset_index(name=\"value\")\n",
    "\n",
    "    fig, ax = plt.subplots(figsize=(15, 2))\n",
    "\n",
    "    matrix = melted_df.pivot(\n",
    "        index=\"phylometric\",\n",
    "        columns=\"regime\",\n",
    "        values=\"value\",\n",
    "    )\n",
    "    matrix = matrix[\n",
    "        sorted(\n",
    "            matrix.columns,\n",
    "            key=[\n",
    "                \"plain\",\n",
    "                \"weak selection\",\n",
    "                \"strong selection\",\n",
    "                \"spatial structure\",\n",
    "                \"weak ecology\",\n",
    "                \"ecology\",\n",
    "                \"rich ecology\",\n",
    "            ].index,\n",
    "        )\n",
    "    ]\n",
    "\n",
    "    annot = []\n",
    "    for metric, row in matrix.iterrows():\n",
    "\n",
    "        def getvec(regime: str) -> np.array:\n",
    "            return fil[fil[\"regime\"] == regime][metric].to_numpy()\n",
    "\n",
    "        annot.append(\n",
    "            [\n",
    "                describe_effect(getvec(\"plain\"), getvec(regime))\n",
    "                for regime in matrix.columns\n",
    "            ],\n",
    "        )\n",
    "\n",
    "    tp.tee(\n",
    "        sns.heatmap,\n",
    "        matrix,\n",
    "        annot=annot,\n",
    "        fmt=\"\",\n",
    "        linewidths=2,\n",
    "        cmap=sns.color_palette(\"vlag\", as_cmap=True),\n",
    "        center=0,\n",
    "        cbar_kws={\"label\": \"normalized\\nphylometric value\"},\n",
    "        teeplot_outattrs={\n",
    "            **dict(\n",
    "                zip(sensitivity_analysis_variables, group),\n",
    "            ),\n",
    "            **{\n",
    "                \"x\": \"regime\",\n",
    "                \"y\": \"phylometric\",\n",
    "            },\n",
    "        },\n",
    "        vmin=-1,\n",
    "        vmax=1,\n",
    "    )\n"
   ]
  },
  {
   "cell_type": "markdown",
   "metadata": {},
   "source": [
    "# stats: kruskal-wallis\n"
   ]
  },
  {
   "cell_type": "code",
   "execution_count": null,
   "metadata": {},
   "outputs": [],
   "source": [
    "records = []\n",
    "for phylometric in phylometrics:\n",
    "    for group, group_df in df.groupby(\n",
    "        sensitivity_analysis_variables, as_index=False\n",
    "    ):\n",
    "        kw_result, n = scipy_stats.kruskal(\n",
    "            *(\n",
    "                quality_series\n",
    "                for quality, quality_series in group_df.groupby([\"regime\"])[\n",
    "                    phylometric\n",
    "                ]\n",
    "            )\n",
    "        ), ip.pophomogeneous(group_df.groupby([\"regime\"]).count()[\"a\"])\n",
    "        records.append(\n",
    "            {\n",
    "                **{\n",
    "                    \"n\": n,\n",
    "                    \"N\": len([*group_df.groupby([\"regime\"])]),\n",
    "                    \"phylometric\": phylometric,\n",
    "                },\n",
    "                **dict(zip([\"statistic\", \"p\"], kw_result)),\n",
    "                **dict(zip(sensitivity_analysis_variables, group)),\n",
    "            }\n",
    "        )\n",
    "\n",
    "with pd.option_context(\"display.max_colwidth\", None, \"display.max_rows\", None):\n",
    "    out_df = (\n",
    "        pd.DataFrame.from_records(records)\n",
    "        .sort_values(\n",
    "            sensitivity_analysis_variables,\n",
    "        )\n",
    "        .reset_index(drop=True)\n",
    "    )\n",
    "    display(out_df)\n",
    "    os.makedirs(\"outdata\", exist_ok=True)\n",
    "    out_df.to_csv(\n",
    "        \"outdata/a=phylostatistics-comparison-between-regimes-kwallis+ext=.csv\",\n",
    "        index=False,\n",
    "    )\n"
   ]
  },
  {
   "cell_type": "markdown",
   "metadata": {},
   "source": [
    "# stats: wilcoxon all pairs\n"
   ]
  },
  {
   "cell_type": "code",
   "execution_count": null,
   "metadata": {},
   "outputs": [],
   "source": [
    "records = []\n",
    "for phylometric in phylometrics:\n",
    "    for group, group_df in df.groupby(\n",
    "        sensitivity_analysis_variables, as_index=False\n",
    "    ):\n",
    "        for regime1, regime2 in it.combinations(\n",
    "            group_df[\"regime\"].unique(), 2\n",
    "        ):\n",
    "            kw_result, n = scipy_stats.wilcoxon(\n",
    "                group_df[group_df[\"regime\"] == regime1][phylometric],\n",
    "                group_df[group_df[\"regime\"] == regime2][phylometric],\n",
    "            ), ip.pophomogeneous(group_df.groupby([\"regime\"]).count()[\"a\"])\n",
    "            records.append(\n",
    "                {\n",
    "                    **{\n",
    "                        \"regime1\": regime1,\n",
    "                        \"regime2\": regime2,\n",
    "                        \"n\": n,\n",
    "                        \"phylometric\": phylometric,\n",
    "                    },\n",
    "                    **dict(zip([\"statistic\", \"p\"], kw_result)),\n",
    "                    **dict(zip(sensitivity_analysis_variables, group)),\n",
    "                }\n",
    "            )\n",
    "\n",
    "with pd.option_context(\"display.max_colwidth\", None, \"display.max_rows\", None):\n",
    "    out_df = (\n",
    "        pd.DataFrame.from_records(records)\n",
    "        .sort_values(\n",
    "            [*sensitivity_analysis_variables, \"regime1\", \"regime2\"],\n",
    "        )\n",
    "        .reset_index(drop=True)\n",
    "    )\n",
    "    display(out_df)\n",
    "    os.makedirs(\"outdata\", exist_ok=True)\n",
    "    out_df.to_csv(\n",
    "        \"outdata/a=phylostatistics-comparison-between-regimes-allpairs-wilcox+ext=.csv\",\n",
    "        index=False,\n",
    "    )\n"
   ]
  }
 ],
 "metadata": {
  "kernelspec": {
   "display_name": "Python 3",
   "language": "python",
   "name": "python3"
  },
  "language_info": {
   "codemirror_mode": {
    "name": "ipython",
    "version": 3
   },
   "file_extension": ".py",
   "mimetype": "text/x-python",
   "name": "python",
   "nbconvert_exporter": "python",
   "pygments_lexer": "ipython3"
  }
 },
 "nbformat": 4,
 "nbformat_minor": 5
}
