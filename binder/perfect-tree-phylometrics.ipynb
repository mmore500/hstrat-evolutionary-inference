{
 "cells": [
  {
   "cell_type": "code",
   "execution_count": null,
   "metadata": {},
   "outputs": [],
   "source": [
    "import itertools as it\n",
    "\n",
    "from matplotlib import pyplot as plt\n",
    "from nbmetalog import nbmetalog as nbm\n",
    "import numpy as np\n",
    "import pandas as pd\n",
    "import seaborn as sns\n",
    "from teeplot import teeplot as tp\n"
   ]
  },
  {
   "cell_type": "code",
   "execution_count": null,
   "metadata": {},
   "outputs": [],
   "source": [
    "# prints metadata about notebook runtime\n",
    "nbm.print_metadata()\n"
   ]
  },
  {
   "cell_type": "code",
   "execution_count": null,
   "metadata": {},
   "outputs": [],
   "source": [
    "df = pd.read_csv(\"https://osf.io/5trmg/download\")\n",
    "dfdigest = np.bitwise_xor.reduce(\n",
    "    pd.util.hash_pandas_object(df),\n",
    ")\n",
    "print(\"{:x}\".format(dfdigest))\n",
    "df\n"
   ]
  },
  {
   "cell_type": "code",
   "execution_count": null,
   "metadata": {},
   "outputs": [],
   "source": [
    "# phylometrics whittled down to descriptive, non-redundant set\n",
    "phylometrics = [\n",
    "    #     'diversity',\n",
    "    \"colless_like_index\",\n",
    "    #     'average_depth',\n",
    "    #     'average_origin_time',\n",
    "    #     'average_origin_time_normalized',\n",
    "    #     'max_depth',\n",
    "    \"mean_pairwise_distance\",\n",
    "    #     'mean_pairwise_distance_branch_only',\n",
    "    #     'num_active',\n",
    "    \"num_ancestors\",\n",
    "    #     'num_outside',\n",
    "    #     'num_roots',\n",
    "    #     'num_taxa',\n",
    "    #     'phylogenetic_diversity',\n",
    "    #     'sum_pairwise_distance',\n",
    "    #     'sum_pairwise_distance_branch_only',\n",
    "    #     'total_orgs',\n",
    "    #     'tree_size',\n",
    "    #     'variance_pairwise_distance',\n",
    "    #     'variance_pairwise_distance_branch_only',\n",
    "    #     'mrca_depth',\n",
    "    #     'sackin_index',\n",
    "    \"mean_evolutionary_distinctiveness\",\n",
    "    #     'sum_evolutionary_distinctiveness',\n",
    "    #     'variance_evolutionary_distinctiveness',\n",
    "]\n"
   ]
  },
  {
   "cell_type": "code",
   "execution_count": null,
   "metadata": {},
   "outputs": [],
   "source": [
    "methodological_variables = [\n",
    "    \"resolution\",\n",
    "]\n"
   ]
  },
  {
   "cell_type": "code",
   "execution_count": null,
   "metadata": {},
   "outputs": [],
   "source": [
    "evolutionary_variables = [\n",
    "    \"num_islands\",\n",
    "    \"num_niches\",\n",
    "    \"tournament_size\",\n",
    "    \"p_niche_invasion\",\n",
    "]\n"
   ]
  },
  {
   "cell_type": "code",
   "execution_count": null,
   "metadata": {},
   "outputs": [],
   "source": [
    "sensitivity_analysis_variables = [\n",
    "    \"epoch\",\n",
    "    \"mut_distn\",\n",
    "]\n"
   ]
  },
  {
   "cell_type": "code",
   "execution_count": null,
   "metadata": {},
   "outputs": [],
   "source": [
    "fixed_variables = [\n",
    "    \"num_generations\",  # homogeneous (num generations per epoch)\n",
    "    \"p_island_migration\",  # homogeneous\n",
    "    \"population_size\",  # homogeneous\n",
    "    \"subsampling-fraction\",  # only use 1.0\n",
    "    \"trie-postprocess\",  # just use naive postprocessing for now\n",
    "]\n"
   ]
  },
  {
   "cell_type": "code",
   "execution_count": null,
   "metadata": {},
   "outputs": [],
   "source": [
    "# ensure fixed variables\n",
    "df = df[\n",
    "    (df[\"p_island_migration\"] == 0.01)\n",
    "    & ((df[\"subsampling-fraction\"] == 1.0) | df[\"subsampling-fraction\"].isna())\n",
    "    & ((df[\"trie-postprocess\"] == \"naive\") | df[\"trie-postprocess\"].isna())\n",
    "].copy()\n",
    "\n",
    "for fixed_variable in fixed_variables:\n",
    "    assert len(df[fixed_variable].dropna().unique()) == 1\n",
    "\n",
    "df\n"
   ]
  },
  {
   "cell_type": "code",
   "execution_count": null,
   "metadata": {},
   "outputs": [],
   "source": [
    "# exclude extraneous variable values\n",
    "df = df[(df[\"a\"] != \"consolidated-phylogeny\")].copy()\n",
    "\n",
    "df\n"
   ]
  },
  {
   "cell_type": "code",
   "execution_count": null,
   "metadata": {},
   "outputs": [],
   "source": [
    "df[\"num_niches\"].unique()\n"
   ]
  },
  {
   "cell_type": "code",
   "execution_count": null,
   "metadata": {},
   "outputs": [],
   "source": [
    "df[\"num_islands\"].unique()\n"
   ]
  },
  {
   "cell_type": "code",
   "execution_count": null,
   "metadata": {},
   "outputs": [],
   "source": [
    "df[\"tournament_size\"].unique()\n"
   ]
  },
  {
   "cell_type": "code",
   "execution_count": null,
   "metadata": {},
   "outputs": [],
   "source": [
    "df[\"a\"].unique()\n"
   ]
  },
  {
   "cell_type": "code",
   "execution_count": null,
   "metadata": {},
   "outputs": [],
   "source": [
    "df[\"regime\"] = df.apply(\n",
    "    lambda row: {\n",
    "        (1, 1, 2, 3.0517578125e-08): \"plain\",\n",
    "        (1, 1, 1, 3.0517578125e-08): \"neutral selection\",\n",
    "        (1, 1, 8, 3.0517578125e-08): \"strong selection\",\n",
    "        (1, 4, 2, 3.0517578125e-06): \"weak 4 niche ecology\",\n",
    "        (1, 4, 2, 3.0517578125e-08): \"4 niche ecology\",\n",
    "        (1, 8, 2, 3.0517578125e-08): \"8 niche ecology\",\n",
    "        (1024, 1, 2, 3.0517578125e-08): \"spatial structure\",\n",
    "    }.get(\n",
    "        tuple(\n",
    "            row[\n",
    "                [\n",
    "                    \"num_islands\",\n",
    "                    \"num_niches\",\n",
    "                    \"tournament_size\",\n",
    "                    \"p_niche_invasion\",\n",
    "                ]\n",
    "            ]\n",
    "        ),\n",
    "        np.nan,  # default\n",
    "    ),\n",
    "    axis=\"columns\",\n",
    ")\n",
    "df = df.dropna(axis=\"index\", subset=[\"regime\"]).copy()\n",
    "df[\"regime\"].unique()\n"
   ]
  },
  {
   "cell_type": "code",
   "execution_count": null,
   "metadata": {},
   "outputs": [],
   "source": [
    "df[df[\"a\"] == \"collapsed-phylogeny\"][\"regime\"].unique()\n"
   ]
  },
  {
   "cell_type": "markdown",
   "metadata": {},
   "source": [
    "# Phylometrics by Regime, Perfect Data\n"
   ]
  },
  {
   "cell_type": "code",
   "execution_count": null,
   "metadata": {},
   "outputs": [],
   "source": [
    "melted_df = df[(df[\"a\"] == \"collapsed-phylogeny\")].melt(\n",
    "    id_vars=(\n",
    "        evolutionary_variables\n",
    "        + methodological_variables\n",
    "        + sensitivity_analysis_variables\n",
    "        + [\"regime\"]\n",
    "    ),\n",
    "    value_vars=phylometrics,\n",
    ")\n",
    "melted_df[\"phylometric\"] = melted_df[\"variable\"]\n",
    "melted_df\n"
   ]
  },
  {
   "cell_type": "code",
   "execution_count": null,
   "metadata": {},
   "outputs": [],
   "source": [
    "def make_do_plot(plotter):\n",
    "    def do_plot(data, col, x, y):\n",
    "        g = sns.FacetGrid(\n",
    "            data,\n",
    "            col=col,\n",
    "            sharex=False,\n",
    "        )\n",
    "        g.map(\n",
    "            plotter,\n",
    "            x,\n",
    "            y,\n",
    "            order=[\n",
    "                \"plain\",\n",
    "                \"weak selection\",\n",
    "                \"strong selection\",\n",
    "                \"spatial structure\",\n",
    "                \"weak 4 niche ecology\",\n",
    "                \"4 niche ecology\",\n",
    "                \"8 niche ecology\",\n",
    "            ],\n",
    "            palette=sns.color_palette(\"Set2\", 4),\n",
    "        )\n",
    "\n",
    "    return do_plot\n",
    "\n",
    "\n",
    "for viz, (group, group_df) in it.product(\n",
    "    [\n",
    "        sns.barplot,\n",
    "        sns.boxplot,\n",
    "        sns.violinplot,\n",
    "    ],\n",
    "    melted_df.groupby(sensitivity_analysis_variables),\n",
    "):\n",
    "    do_plot = make_do_plot(viz)\n",
    "    do_plot.__name__ = viz.__name__\n",
    "    tp.tee(\n",
    "        do_plot,\n",
    "        data=group_df,\n",
    "        col=\"phylometric\",\n",
    "        x=\"value\",\n",
    "        y=\"regime\",\n",
    "        teeplot_outattrs=dict(\n",
    "            zip(sensitivity_analysis_variables, group),\n",
    "        ),\n",
    "    )\n"
   ]
  },
  {
   "cell_type": "markdown",
   "metadata": {},
   "source": [
    "# regime heatmap signatures\n"
   ]
  },
  {
   "cell_type": "code",
   "execution_count": null,
   "metadata": {},
   "outputs": [],
   "source": [
    "data = df[(df[\"a\"] == \"collapsed-phylogeny\")].copy().dropna(subset=[\"regime\"])\n",
    "\n",
    "data = data.groupby(\"regime\").mean()\n",
    "\n",
    "plain_means = data.loc[\"plain\"]\n",
    "plain_stds = data.std()\n",
    "\n",
    "# normalize to plain\n",
    "for phylometric in phylometrics:\n",
    "    data[phylometric] = (\n",
    "        data[phylometric] - plain_means[phylometric]\n",
    "    ) / plain_stds[phylometric]\n",
    "\n",
    "data = data.reset_index(drop=False)\n",
    "data\n"
   ]
  },
  {
   "cell_type": "code",
   "execution_count": null,
   "metadata": {},
   "outputs": [],
   "source": [
    "data = data.melt(\n",
    "    id_vars=[\"regime\"],\n",
    "    value_vars=phylometrics,\n",
    ")\n",
    "data[\"phylometric\"] = data[\"variable\"]\n",
    "data\n"
   ]
  },
  {
   "cell_type": "code",
   "execution_count": null,
   "metadata": {},
   "outputs": [],
   "source": [
    "fig, ax = plt.subplots(figsize=(15, 5))\n",
    "\n",
    "matrix = data.pivot(\n",
    "    index=\"phylometric\",\n",
    "    columns=\"regime\",\n",
    "    values=\"value\",\n",
    ")\n",
    "matrix = matrix[\n",
    "    sorted(\n",
    "        matrix.columns,\n",
    "        key=[\n",
    "            \"plain\",\n",
    "            \"weak selection\",\n",
    "            \"strong selection\",\n",
    "            \"spatial structure\",\n",
    "            \"weak 4 niche ecology\",\n",
    "            \"4 niche ecology\",\n",
    "            \"8 niche ecology\",\n",
    "        ].index,\n",
    "    )\n",
    "]\n",
    "\n",
    "sns.heatmap(\n",
    "    matrix,\n",
    "    linewidths=2,\n",
    "    cmap=sns.color_palette(\"vlag\", as_cmap=True),\n",
    "    center=0,\n",
    "    cbar_kws={\"label\": \"normalized phylometric value\"},\n",
    ")\n"
   ]
  }
 ],
 "metadata": {
  "kernelspec": {
   "display_name": "Python 3",
   "language": "python",
   "name": "python3"
  },
  "language_info": {
   "codemirror_mode": {
    "name": "ipython",
    "version": 3
   },
   "file_extension": ".py",
   "mimetype": "text/x-python",
   "name": "python",
   "nbconvert_exporter": "python",
   "pygments_lexer": "ipython3"
  }
 },
 "nbformat": 4,
 "nbformat_minor": 5
}
